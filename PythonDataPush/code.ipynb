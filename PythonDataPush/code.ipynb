{
 "cells": [
  {
   "cell_type": "code",
   "execution_count": 1,
   "metadata": {},
   "outputs": [],
   "source": [
    "# !pip install openai\n"
   ]
  },
  {
   "cell_type": "code",
   "execution_count": 2,
   "metadata": {},
   "outputs": [],
   "source": [
    "# !pip install newsapi-python"
   ]
  },
  {
   "cell_type": "code",
   "execution_count": 1,
   "metadata": {},
   "outputs": [],
   "source": [
    "import openai\n",
    "from getpass import getpass\n",
    "openai.api_key = getpass()\n"
   ]
  },
  {
   "cell_type": "code",
   "execution_count": 2,
   "metadata": {},
   "outputs": [],
   "source": [
    "from newsapi import NewsApiClient\n",
    "newsapi = NewsApiClient(api_key=getpass())\n",
    "from newspaper import fulltext\n",
    "import requests"
   ]
  },
  {
   "cell_type": "code",
   "execution_count": 3,
   "metadata": {},
   "outputs": [],
   "source": [
    "from dotenv import  dotenv_values\n",
    "\n",
    "config = dotenv_values(\".env\")\n",
    "\n",
    "from collections.abc import Mapping\n",
    "\n",
    "import pyrebase\n",
    "firebase = pyrebase.initialize_app(config)\n",
    "database = firebase.database()  "
   ]
  },
  {
   "cell_type": "code",
   "execution_count": 5,
   "metadata": {},
   "outputs": [
    {
     "name": "stdout",
     "output_type": "stream",
     "text": [
      "100\n"
     ]
    }
   ],
   "source": [
    "headline = newsapi.get_everything(page=1,\n",
    "                                  q=\"Technology\"\n",
    "                                  or \"politics\" \n",
    "                                  or \"business\"\n",
    "                                  or \"sports\"\n",
    "                                  or \"entertainment\"\n",
    "                                  or \"health\"\n",
    "                                  or \"science\"\n",
    "                                  )\n",
    "articles= headline['articles']\n",
    "print(len(articles))"
   ]
  },
  {
   "cell_type": "code",
   "execution_count": 6,
   "metadata": {},
   "outputs": [
    {
     "name": "stdout",
     "output_type": "stream",
     "text": [
      "Text Pulled\n",
      "Text Pulled\n",
      "Request timed out: HTTPSConnectionPool(host='api.openai.com', port=443): Read timed out. (read timeout=600)\n",
      "Timeout error, retrying...\n",
      "Text Pulled\n",
      "Text Pulled\n",
      "Text Pulled\n",
      "Request timed out: HTTPSConnectionPool(host='api.openai.com', port=443): Read timed out. (read timeout=600)\n",
      "Timeout error, retrying...\n",
      "Text Pulled\n",
      "Text Pulled\n",
      "Text Pulled\n",
      "Text Pulled\n",
      "Text Pulled\n",
      "Text Pulled\n",
      "Text Pulled\n",
      "Text Pulled\n",
      "Text Pulled\n",
      "Text Pulled\n",
      "Text Pulled\n",
      "Text Pulled\n",
      "Text Pulled\n",
      "Text Pulled\n",
      "Text Pull Failed\n",
      "Text Pulled\n",
      "Text Pulled\n",
      "Text Pulled\n",
      "Text Pulled\n",
      "Text Pulled\n",
      "Request timed out: HTTPSConnectionPool(host='api.openai.com', port=443): Read timed out. (read timeout=600)\n",
      "Timeout error, retrying...\n",
      "Text Pulled\n"
     ]
    }
   ],
   "source": [
    "import time\n",
    "headline = newsapi.get_everything(page=1,\n",
    "                                  q=\"politics\")\n",
    "articles= headline['articles']\n",
    "# print(articles)\n",
    "pushData={}\n",
    "\n",
    "for article in articles:\n",
    "    \n",
    "    try:\n",
    "        url=article['url']\n",
    "        html= requests.get(url).text\n",
    "        text= fulltext(html)\n",
    "        print(\"Text Pulled\")\n",
    "    \n",
    "    except:\n",
    "        print(\"Text Pull Failed\")\n",
    "        continue\n",
    "    \n",
    "    retries = 3    \n",
    "    while retries > 0:    \n",
    "        try: \n",
    "\n",
    "            openAIResult= openai.ChatCompletion.create(\n",
    "                model= \"gpt-3.5-turbo\",\n",
    "                messages=[\n",
    "                    {\"role\":\"system\", \"content\": \"You are a jounalist that summarizes news articals into short bullet points. \"},\n",
    "                    {\"role\":\"user\", \"content\": f\"summarize the following article: {text} and return an python array of summarized bullet points. Also, Remove any bias from the article. Make the bullet points as factual as possible. \"}\n",
    "                ]\n",
    "            )\n",
    "            \n",
    "            categoryResult= openai.ChatCompletion.create(\n",
    "                model= \"gpt-3.5-turbo\",\n",
    "                messages=[\n",
    "                    {\"role\":\"system\", \"content\": \"You are a jounalist that summarizes news articals into short bullet points. \"},\n",
    "                    {\"role\":\"user\", \"content\": f\"Which news categories would  following article be in. It can have multiple category, return as string separated by commas and no and: {text}. Just give the categories. dont add any additional text \"}\n",
    "                ]\n",
    "            )\n",
    "            \n",
    "           \n",
    "            retries = -1\n",
    "        except Exception as e:    \n",
    "            if e: \n",
    "                print(e)   \n",
    "                print('Timeout error, retrying...')    \n",
    "                retries -= 1    \n",
    "                time.sleep(5)    \n",
    "            else:    \n",
    "                raise e   \n",
    "        \n",
    "        \n",
    "    summarized_text = openAIResult['choices'][0]['message']['content']\n",
    "    # print(summarized_text)\n",
    "    bullet_points = [point.strip() for point in summarized_text.split('\\n') if point.strip()]\n",
    "    article['bullet_points']= bullet_points\n",
    "  \n",
    "    \n",
    "    \n",
    "    categoryText= categoryResult['choices'][0]['message']['content'].split(',')\n",
    "    article['category']= categoryText\n",
    "    \n",
    "    database.child(\"articles\").push(article)\n",
    "\n"
   ]
  }
 ],
 "metadata": {
  "kernelspec": {
   "display_name": "Python 3",
   "language": "python",
   "name": "python3"
  },
  "language_info": {
   "codemirror_mode": {
    "name": "ipython",
    "version": 3
   },
   "file_extension": ".py",
   "mimetype": "text/x-python",
   "name": "python",
   "nbconvert_exporter": "python",
   "pygments_lexer": "ipython3",
   "version": "3.11.3"
  },
  "orig_nbformat": 4
 },
 "nbformat": 4,
 "nbformat_minor": 2
}
